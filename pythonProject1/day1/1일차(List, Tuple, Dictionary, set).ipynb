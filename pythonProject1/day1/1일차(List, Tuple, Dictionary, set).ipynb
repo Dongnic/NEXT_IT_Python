{
 "cells": [
  {
   "cell_type": "markdown",
   "id": "0e404f91",
   "metadata": {},
   "source": [
    "# 1일차"
   ]
  },
  {
   "cell_type": "code",
   "execution_count": 1,
   "id": "2461dca1",
   "metadata": {
    "scrolled": false
   },
   "outputs": [
    {
     "name": "stdout",
     "output_type": "stream",
     "text": [
      "hi\n"
     ]
    }
   ],
   "source": [
    "print(\"hi\")"
   ]
  },
  {
   "cell_type": "markdown",
   "id": "1c947f75",
   "metadata": {},
   "source": [
    "## List 동적배열\n",
    "> 특징은 수정삭제가 가능하며 인덱스로 접근이 가능함."
   ]
  },
  {
   "cell_type": "code",
   "execution_count": 2,
   "id": "5fa67a46",
   "metadata": {},
   "outputs": [
    {
     "name": "stdout",
     "output_type": "stream",
     "text": [
      "hi\n",
      "test\n"
     ]
    }
   ],
   "source": [
    "arr = [1, 'hi', True, 100]\n",
    "print(arr[1])\n",
    "arr[1]=\"test\"\n",
    "print(arr[1])"
   ]
  },
  {
   "cell_type": "code",
   "execution_count": 3,
   "id": "3160c16f",
   "metadata": {},
   "outputs": [
    {
     "name": "stdout",
     "output_type": "stream",
     "text": [
      "[1, 'test', True, 100, 1000]\n"
     ]
    }
   ],
   "source": [
    "# 요소추가\n",
    "arr.append(1000)\n",
    "print(arr)"
   ]
  },
  {
   "cell_type": "markdown",
   "id": "a394f1a7",
   "metadata": {},
   "source": [
    "## SET 중복이 허용되지 않는 자료구조"
   ]
  },
  {
   "cell_type": "code",
   "execution_count": 5,
   "id": "0e058226",
   "metadata": {},
   "outputs": [
    {
     "name": "stdout",
     "output_type": "stream",
     "text": [
      "{1, 2, 3, 4}\n"
     ]
    }
   ],
   "source": [
    "arr2 = {1, 1, 2, 2, 3, 4}\n",
    "print(arr2)"
   ]
  },
  {
   "cell_type": "code",
   "execution_count": 6,
   "id": "834da6a5",
   "metadata": {},
   "outputs": [
    {
     "name": "stdout",
     "output_type": "stream",
     "text": [
      "<class 'set'>\n",
      "<class 'dict'>\n"
     ]
    }
   ],
   "source": [
    "arr3 = set()\n",
    "arr4 = {}\n",
    "#set dictionary 둘 다 중괄호를 사용하기 때문에 set은 set()로 선언\n",
    "print(type(arr3))\n",
    "print(type(arr4))"
   ]
  },
  {
   "cell_type": "code",
   "execution_count": 8,
   "id": "5fc9a0c8",
   "metadata": {},
   "outputs": [
    {
     "name": "stdout",
     "output_type": "stream",
     "text": [
      "6\n"
     ]
    }
   ],
   "source": [
    "import random\n",
    "ran = random.randint(1,10)\n",
    "# 랜덤 정수 반환 1~10\n",
    "print(ran)"
   ]
  },
  {
   "cell_type": "markdown",
   "id": "b72e8f70",
   "metadata": {},
   "source": [
    "## 오늘의 문제 \n",
    "### input으로 숫자를 입력 받아 그 수량으로 로또번호(6개 숫자)를 출력하시오\n",
    ">6개의 숫자는 중복이 허용되지 않으며 1 ~ 45의 수를 가진다.\n",
    "\n",
    "### while, for, set, len, input.. 등 사용"
   ]
  },
  {
   "cell_type": "code",
   "execution_count": 9,
   "id": "aa9e8dc3",
   "metadata": {},
   "outputs": [
    {
     "name": "stdout",
     "output_type": "stream",
     "text": [
      "5\n"
     ]
    }
   ],
   "source": [
    "#length 반환\n",
    "print(len(arr))\n"
   ]
  },
  {
   "cell_type": "code",
   "execution_count": 50,
   "id": "0437496f",
   "metadata": {},
   "outputs": [
    {
     "name": "stdout",
     "output_type": "stream",
     "text": [
      "숫자를 입력해주세요 : 5\n",
      "===============로또 번호 생성기=============\n",
      "[15, 18, 25, 29, 34, 39]\n",
      "[5, 10, 14, 15, 16, 41]\n",
      "[14, 18, 27, 32, 39, 42]\n",
      "[9, 15, 18, 25, 42, 43]\n",
      "[3, 8, 12, 21, 30, 41]\n",
      "===============로또 번호 생성기=============\n"
     ]
    }
   ],
   "source": [
    "import random\n",
    "a = int(input(\"숫자를 입력해주세요 : \"))\n",
    "print(\"===============로또 번호 생성기=============\")\n",
    "for i in range(a) :\n",
    "    lotto = set()\n",
    "    while len(lotto) <= 5 :\n",
    "        lotto.add(random.randint(1,45))\n",
    "    lotto = list(lotto)\n",
    "    lotto.sort()    \n",
    "    print(lotto)\n",
    "print(\"===============로또 번호 생성기=============\")    "
   ]
  },
  {
   "cell_type": "code",
   "execution_count": null,
   "id": "421c6de1",
   "metadata": {},
   "outputs": [],
   "source": []
  }
 ],
 "metadata": {
  "kernelspec": {
   "display_name": "Python 3 (ipykernel)",
   "language": "python",
   "name": "python3"
  },
  "language_info": {
   "codemirror_mode": {
    "name": "ipython",
    "version": 3
   },
   "file_extension": ".py",
   "mimetype": "text/x-python",
   "name": "python",
   "nbconvert_exporter": "python",
   "pygments_lexer": "ipython3",
   "version": "3.8.13"
  }
 },
 "nbformat": 4,
 "nbformat_minor": 5
}
